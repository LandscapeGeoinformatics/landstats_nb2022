{
 "cells": [
  {
   "cell_type": "markdown",
   "metadata": {
    "id": "pLBvTp_PCPgx"
   },
   "source": [
    "# Landscape Ecology\n",
    "\n",
    "__Evelyn Uuemaa, PhD__\n",
    "\n",
    "- Course supplement\n",
    "\n",
    "    Students upload a zip file with landscape rasters (all the same format, e.g. *.tif) and calculate selected landscape metrics. They are then also able to download the statistics for reporting.\n",
    "\n",
    "References:\n",
    "- https://journals.plos.org/plosone/article?id=10.1371/journal.pone.0225734\n",
    "- https://github.com/martibosch/pylandstats"
   ]
  },
  {
   "cell_type": "markdown",
   "metadata": {
    "id": "dU09-eocCPg5"
   },
   "source": [
    "## How to use this notebook\n",
    "\n",
    "Highlight the top cell and click the \"Run\" button to execute the cells and move the program forward. If anything goes wrong, you can easily restart from the beginning."
   ]
  },
  {
   "cell_type": "code",
   "execution_count": null,
   "metadata": {
    "id": "izMKLW4VCPg6"
   },
   "outputs": [],
   "source": [
    "from IPython.display import display\n",
    "import ipywidgets as widgets\n",
    "import zipfile\n",
    "import glob"
   ]
  },
  {
   "cell_type": "code",
   "execution_count": null,
   "metadata": {
    "id": "GB-ljpDACPg9"
   },
   "outputs": [],
   "source": [
    "upload = widgets.FileUpload( accept='.zip', multiple=False )"
   ]
  },
  {
   "cell_type": "code",
   "execution_count": null,
   "metadata": {
    "colab": {
     "base_uri": "https://localhost:8080/",
     "height": 49,
     "referenced_widgets": [
      "1121b6bb4c684ea3bc98d7954bb282f9",
      "ca4e78308c6e429ea8d63198fa38c4fb",
      "eaad029d3e6b4c589b38cdbb72401785"
     ]
    },
    "id": "BjDuXlkECPg9",
    "outputId": "43a4ef7d-88ee-4013-af00-5ba18689f22f"
   },
   "outputs": [],
   "source": [
    "upload"
   ]
  },
  {
   "cell_type": "markdown",
   "metadata": {
    "id": "EGNME6bpCPg_"
   },
   "source": [
    "After you selected the file, the upload field should show (1), that means the file is now selected.\n",
    "\n",
    "Click on the _next cell_ to continue..."
   ]
  },
  {
   "cell_type": "code",
   "execution_count": null,
   "metadata": {
    "colab": {
     "base_uri": "https://localhost:8080/",
     "height": 359
    },
    "id": "UIpA7Dx6CPhA",
    "outputId": "2157e166-ff29-4adb-b47a-69cc6c156529"
   },
   "outputs": [],
   "source": [
    "t = upload.data[0]\n",
    "\n",
    "with open('tmp.zip', 'wb') as fh:\n",
    "    fh.write(t)\n",
    "\n",
    "\n",
    "with zipfile.ZipFile('tmp.zip', 'r') as zip_ref:\n",
    "    zip_ref.extractall(\".\")\n",
    "\n",
    "all_tifs = glob.glob(\"*.tif\")\n",
    "\n",
    "# print(all_tifs)"
   ]
  },
  {
   "cell_type": "markdown",
   "metadata": {
    "id": "G3G7rVvLCPhB"
   },
   "source": [
    "Now we have the data loaded and we can run the statistics and plots. In the following cell configure the names of the class column and the value columns."
   ]
  },
  {
   "cell_type": "code",
   "execution_count": null,
   "metadata": {},
   "outputs": [],
   "source": [
    "import pandas as pd\n",
    "import pylandstats as pls\n",
    "\n",
    "all_metrics = []\n",
    "\n",
    "for landscape in all_tifs:\n",
    "    ls = pls.Landscape(landscape)\n",
    "    metrics_df = ls.compute_landscape_metrics_df(metrics=[\"edge_density\", \"patch_density\", \"shannon_diversity_index\"])\n",
    "    metrics_df[\"mean_shape_index\"] = ls.shape_index()['shape_index'].mean()\n",
    "    metrics_df[\"mean_patch_size_ha\"] = ls.area(class_val=None, hectares=True)['area'].mean()\n",
    "    metrics_df.index = [landscape]\n",
    "    all_metrics.append(metrics_df)\n",
    "    \n",
    "all_metrics_df = pd.concat(all_metrics, axis=0)\n",
    "\n",
    "all_metrics_df.to_csv(\"landscape_metrics.csv\", sep=\",\", encoding=\"utf-8\")\n",
    "\n",
    "all_metrics_df"
   ]
  },
  {
   "cell_type": "markdown",
   "metadata": {
    "id": "oU1U5pMxCPhC"
   },
   "source": [
    "[download the table here](landscape_metrics.csv)\n",
    "\n",
    "Alternatively, just load the file directly from the file list"
   ]
  },
  {
   "cell_type": "code",
   "execution_count": null,
   "metadata": {},
   "outputs": [],
   "source": []
  }
 ],
 "metadata": {
  "colab": {
   "name": "statistika.ipynb",
   "provenance": []
  },
  "kernelspec": {
   "display_name": "Python 3 (ipykernel)",
   "language": "python",
   "name": "python3"
  },
  "language_info": {
   "codemirror_mode": {
    "name": "ipython",
    "version": 3
   },
   "file_extension": ".py",
   "mimetype": "text/x-python",
   "name": "python",
   "nbconvert_exporter": "python",
   "pygments_lexer": "ipython3",
   "version": "3.9.7"
  },
  "widgets": {
   "application/vnd.jupyter.widget-state+json": {
    "1121b6bb4c684ea3bc98d7954bb282f9": {
     "model_module": "@jupyter-widgets/controls",
     "model_name": "FileUploadModel",
     "state": {
      "_counter": 1,
      "_dom_classes": [],
      "_model_module": "@jupyter-widgets/controls",
      "_model_module_version": "1.5.0",
      "_model_name": "FileUploadModel",
      "_view_count": null,
      "_view_module": "@jupyter-widgets/controls",
      "_view_module_version": "1.5.0",
      "_view_name": "FileUploadView",
      "accept": ".csv",
      "button_style": "",
      "data": [
       null
      ],
      "description": "Upload",
      "description_tooltip": null,
      "disabled": false,
      "error": "",
      "icon": "upload",
      "layout": "IPY_MODEL_eaad029d3e6b4c589b38cdbb72401785",
      "metadata": [
       {
        "lastModified": 1609841706334,
        "name": "linnud_stats.csv",
        "size": 13956,
        "type": "application/vnd.ms-excel"
       }
      ],
      "multiple": false,
      "style": "IPY_MODEL_ca4e78308c6e429ea8d63198fa38c4fb"
     }
    },
    "ca4e78308c6e429ea8d63198fa38c4fb": {
     "model_module": "@jupyter-widgets/controls",
     "model_name": "ButtonStyleModel",
     "state": {
      "_model_module": "@jupyter-widgets/controls",
      "_model_module_version": "1.5.0",
      "_model_name": "ButtonStyleModel",
      "_view_count": null,
      "_view_module": "@jupyter-widgets/base",
      "_view_module_version": "1.2.0",
      "_view_name": "StyleView",
      "button_color": null,
      "font_weight": ""
     }
    },
    "eaad029d3e6b4c589b38cdbb72401785": {
     "model_module": "@jupyter-widgets/base",
     "model_name": "LayoutModel",
     "state": {
      "_model_module": "@jupyter-widgets/base",
      "_model_module_version": "1.2.0",
      "_model_name": "LayoutModel",
      "_view_count": null,
      "_view_module": "@jupyter-widgets/base",
      "_view_module_version": "1.2.0",
      "_view_name": "LayoutView",
      "align_content": null,
      "align_items": null,
      "align_self": null,
      "border": null,
      "bottom": null,
      "display": null,
      "flex": null,
      "flex_flow": null,
      "grid_area": null,
      "grid_auto_columns": null,
      "grid_auto_flow": null,
      "grid_auto_rows": null,
      "grid_column": null,
      "grid_gap": null,
      "grid_row": null,
      "grid_template_areas": null,
      "grid_template_columns": null,
      "grid_template_rows": null,
      "height": null,
      "justify_content": null,
      "justify_items": null,
      "left": null,
      "margin": null,
      "max_height": null,
      "max_width": null,
      "min_height": null,
      "min_width": null,
      "object_fit": null,
      "object_position": null,
      "order": null,
      "overflow": null,
      "overflow_x": null,
      "overflow_y": null,
      "padding": null,
      "right": null,
      "top": null,
      "visibility": null,
      "width": null
     }
    }
   }
  }
 },
 "nbformat": 4,
 "nbformat_minor": 4
}
